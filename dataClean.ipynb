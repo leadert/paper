{
 "cells": [
  {
   "cell_type": "code",
   "execution_count": 1,
   "id": "numeric-honor",
   "metadata": {},
   "outputs": [],
   "source": [
    "import re\n",
    "import numpy as np\n",
    "import pandas as pd\n",
    "from pandas import DataFrame\n",
    "\n",
    "pd.set_option('display.max_columns', None)  # 显示时不折叠\n",
    "\n",
    "\n",
    "# 时间列数据格式修改\n",
    "def date_struct(string_date):\n",
    "    date_list = re.split('[-/]', string_date)\n",
    "    date_list[0] = '20' + date_list[0][-2:]\n",
    "    date_list[1] = date_list[1] if len(date_list[1]) == 2 else '0' + date_list[1]\n",
    "    date_list[2] = date_list[2] if len(date_list[2]) == 2 else '0' + date_list[2]\n",
    "    date = date_list[0] + '-' + date_list[1] + '-' + date_list[2]\n",
    "    return date\n",
    "\n",
    "\n",
    "# 输入string/None, 正则表达式匹配shop数据集中avg_price的纯数字\n",
    "def match_avg_price(avg_price):\n",
    "    if avg_price is not None:\n",
    "        avg_price_list = re.findall(\"\\d+\", str(avg_price))\n",
    "        if len(avg_price_list) > 0:\n",
    "            return avg_price_list[0]\n",
    "        else:\n",
    "            return avg_price\n",
    "\n",
    "\n",
    "# 输入shop dataframe，修正avg_price，如果为[]则按照同区域中(先同小类型POI后同大类型POI)的平均价格；非[]则取其中数字\n",
    "def process_avg_price(df_shop):\n",
    "    s_avg_price_isnull = df_shop['match_avg_price'].isnull()\n",
    "    for index, value in s_avg_price_isnull.iteritems():\n",
    "        if value is True:\n",
    "            if (df_shop.loc[index, \"big_category\"] == \"景点\" and df_shop.loc[index, \"avg_price\"] == 0) or df_shop.loc[index, \"small_category\"] == \"图书馆\" \\\n",
    "                    or df_shop.loc[index, \"small_category\"] == \"大学\":\n",
    "                df_shop.loc[index, 'avg_price'] = 0\n",
    "                continue\n",
    "            else:\n",
    "                df_similiar_shop = df_shop.loc[(df_shop[\"small_category\"] == df_shop.loc[index][\"small_category\"])]\n",
    "                df_similiar_shop = df_similiar_shop.dropna(subset=[\"match_avg_price\"])\n",
    "                df_similiar_shop[\"match_avg_price\"] = df_similiar_shop[\"match_avg_price\"].astype('int')\n",
    "                if df_similiar_shop.shape[0] == 0:\n",
    "                    df_similiar_shop = df_shop.loc[(df_shop[\"big_category\"] == df_shop.loc[index][\"big_category\"])]\n",
    "                    df_similiar_shop = df_similiar_shop.dropna(subset=[\"match_avg_price\"])\n",
    "                    df_similiar_shop[\"match_avg_price\"] = df_similiar_shop[\"match_avg_price\"].astype('int')\n",
    "                price = int(df_similiar_shop['match_avg_price'].mean())\n",
    "                df_shop.loc[index, 'avg_price'] = price\n",
    "                continue\n",
    "        else:\n",
    "            df_shop.loc[index, 'avg_price'] = int(df_shop.loc[index, 'match_avg_price'])\n",
    "    return df_shop\n",
    "\n",
    "\n",
    "# 输入shop dataframe，处理其他属性(score1, score2, score3),先对小类型取平均,若小类型均为空则对大类型取平均\n",
    "def process_attributes(df_shop):\n",
    "    s_score_isnull = df_shop['score1'].isnull()\n",
    "    for index, value in s_score_isnull.iteritems():\n",
    "        if value is True:\n",
    "            df_similiar_shop = df_shop.loc[(df_shop[\"small_category\"] == df_shop.loc[index, \"small_category\"])]\n",
    "            df_similiar_shop = df_similiar_shop.dropna(subset=[\"score1\", \"score2\", \"score3\"])\n",
    "            if df_similiar_shop.shape[0] == 0:\n",
    "                df_similiar_shop = df_shop.loc[(df_shop[\"big_category\"] == df_shop.loc[index, \"big_category\"])]\n",
    "                df_similiar_shop = df_similiar_shop.dropna(subset=[\"score1\", \"score2\", \"score3\"])\n",
    "            df_similiar_shop[\"score1\"] = df_similiar_shop[\"score1\"].astype('float')\n",
    "            df_similiar_shop[\"score2\"] = df_similiar_shop[\"score2\"].astype('float')\n",
    "            df_similiar_shop[\"score3\"] = df_similiar_shop[\"score3\"].astype('float')\n",
    "            df_shop.loc[index, 'score1'] = format(df_similiar_shop['score1'].mean(), '.1f')\n",
    "            df_shop.loc[index, 'score2'] = format(df_similiar_shop['score2'].mean(), '.1f')\n",
    "            df_shop.loc[index, 'score3'] = format(df_similiar_shop['score3'].mean(), '.1f')\n",
    "        else:\n",
    "            df_shop.loc[index, 'score1'] = float(df_shop.loc[index, 'score1'])\n",
    "            df_shop.loc[index, 'score2'] = float(df_shop.loc[index, 'score2'])\n",
    "            df_shop.loc[index, 'score3'] = float(df_shop.loc[index, 'score3'])\n",
    "    return df_shop\n",
    "\n",
    "\n",
    "# 处理review数据集中的userID.先保存ID:index的映射,然后逐个处理\n",
    "def transform_user_id(df_review):\n",
    "    userID_map_dict = {}\n",
    "    userIDList = df_review[\"userID\"].unique()\n",
    "    for index, userID in enumerate(userIDList):\n",
    "        userID_map_dict[userID] = index\n",
    "    return userID_map_dict\n",
    "\n",
    "\n",
    "def process_user_id(userID_map_dict, user_id):\n",
    "    return userID_map_dict[user_id]\n",
    "\n",
    "\n",
    "# 处理shop数据集和review数据集中的shopID.原理同上\n",
    "def transform_shop_id(df_shop):\n",
    "    shopID_map_dict = {}\n",
    "    shopID_map_list = df_shop[\"shop_id\"].unique()\n",
    "    for index, shopID in enumerate(shopID_map_list):\n",
    "        shopID_map_dict[shopID] = index\n",
    "    return shopID_map_dict\n",
    "\n",
    "\n",
    "def process_shop_id(shopID_map_dict, shop_id):\n",
    "    return shopID_map_dict[shop_id]\n",
    "\n",
    "\n",
    "# 分割review数据集中的训练集与测试集\n",
    "def split_review_data(df_review):\n",
    "    df_train_data = DataFrame({'userID': [0],\n",
    "                               'username': [\"my\"],\n",
    "                               'shopID': [0],\n",
    "                               'date': ['1996/07/18'],\n",
    "                               'score': [0]})\n",
    "    df_test_data = DataFrame({'userID': [0],\n",
    "                              'username': [\"my\"],\n",
    "                              'shopID': [0],\n",
    "                              'date': ['1996/07/18'],\n",
    "                              'score': [0]})\n",
    "    byGroup = df_review.groupby(\"userID\")\n",
    "    for index, group in byGroup:\n",
    "        userCount = group.shape[0]\n",
    "        # k = 0.8                  # 训练集的比重\n",
    "        df_train = group[0:int(userCount*0.8)]\n",
    "        df_test = group[int(userCount*0.8):]\n",
    "\n",
    "        df_train_data = pd.concat([df_train_data, df_train])\n",
    "        df_test_data = pd.concat([df_test_data, df_test])\n",
    "\n",
    "    df_train_data = df_train_data[1:]\n",
    "    df_test_data = df_test_data[1:]\n",
    "\n",
    "    return df_train_data, df_test_data\n",
    "\n",
    "\n",
    "# 获取用户的历史访问数据\n",
    "# def get_user_history(df_train_data):\n",
    "#     user_history_dict = {}\n",
    "#     grouped = df_train_data.groupby(\"userID\")\n",
    "#     for userID, group in grouped:\n",
    "#         for shopID in group[\"shopID\"]:\n",
    "#             if userID not in user_history_dict.keys():\n",
    "#                 user_history_dict[userID] = [shopID]\n",
    "#             else:\n",
    "#                 user_history_dict[userID].append(shopID)\n",
    "#     return user_history_dict"
   ]
  },
  {
   "cell_type": "code",
   "execution_count": 2,
   "id": "automotive-finder",
   "metadata": {},
   "outputs": [
    {
     "name": "stdout",
     "output_type": "stream",
     "text": [
      "******Start clean dataset******\n"
     ]
    }
   ],
   "source": [
    "print(\"******Start clean dataset******\")\n",
    "# 店铺仍在开（属性齐全）且评论数不小于5条的遴选出来\n",
    "df_shop = pd.read_csv(\"newData/dianping_shops1.csv\", encoding=\"utf-8\", low_memory=False)\n",
    "df_shop = df_shop.loc[df_shop[\"status\"] == 0]\n",
    "df_shop = df_shop[df_shop.review_count >= 5]"
   ]
  },
  {
   "cell_type": "code",
   "execution_count": 3,
   "id": "round-desire",
   "metadata": {},
   "outputs": [],
   "source": [
    "# 遴选用户数据集中，访问次数大于k的shop\n",
    "df_review = pd.read_csv(\"newData/review_data.csv\", encoding=\"utf-8\", low_memory=False)\n",
    "df_reviewCountOfShop = df_review.shopID.value_counts()\n",
    "df_reviewCountOfShop = df_reviewCountOfShop.reset_index(level=None, drop=False, name=None, inplace=False)\n",
    "new_col = ['shop_id', 'appearance_counts']\n",
    "df_reviewCountOfShop.columns = new_col\n",
    "df_reviewCountOfShop = df_reviewCountOfShop[df_reviewCountOfShop.appearance_counts >= 10]         # 评论集中店铺访问数不少于k=10"
   ]
  },
  {
   "cell_type": "code",
   "execution_count": 4,
   "id": "alive-hayes",
   "metadata": {
    "scrolled": true
   },
   "outputs": [
    {
     "name": "stdout",
     "output_type": "stream",
     "text": [
      "数据集Shop数量为： 21040\n"
     ]
    }
   ],
   "source": [
    "# 在shop数据集中，根据访问次数>k的遴选结果，选取对应的shop行\n",
    "df_cleanShop = df_shop.loc[df_shop[\"shop_id\"].isin(df_reviewCountOfShop[\"shop_id\"])]\n",
    "print(\"数据集Shop数量为：\", df_cleanShop.shape[0])"
   ]
  },
  {
   "cell_type": "code",
   "execution_count": 5,
   "id": "detailed-massachusetts",
   "metadata": {},
   "outputs": [
    {
     "name": "stdout",
     "output_type": "stream",
     "text": [
      "数据集Review数量为： 1100867\n",
      "数据集User数量为： 26566\n"
     ]
    }
   ],
   "source": [
    "# 在review数据集中，遴选shopID 在 df_cleanShop 的那些评论\n",
    "df_review = df_review.loc[df_review[\"shopID\"].isin(df_cleanShop[\"shop_id\"])]\n",
    "\n",
    "# 在review数据集中，去除重复的访问记录，去除打分为空的访问记录\n",
    "df_review = df_review[[\"userID\", \"username\", \"shopID\", \"shopname\", \"score\", \"date\"]]\n",
    "df_review['date'] = df_review.apply(lambda x: date_struct(x['date']), axis=1)\n",
    "df_review.drop_duplicates(subset=[\"userID\", \"shopID\", \"score\", \"date\"], keep=\"first\", inplace=True)\n",
    "df_review = df_review.dropna(subset=[\"score\"])\n",
    "\n",
    "# 在review数据集中，根据访问次数>k的遴选结果，选取对应的review行\n",
    "byGroup = df_review.groupby('userID').aggregate(np.count_nonzero)\n",
    "tags = byGroup[byGroup.username >= 10].index                          # 有效评论不少于10条的用户\n",
    "df_review = df_review[df_review['userID'].isin(tags)]\n",
    "\n",
    "# 在review数据集中，对于每个用户的访问记录按时间前后排序，以便后面划分训练集与测试集\n",
    "df_review = df_review.groupby(\"userID\").apply(lambda x: x.sort_values(by=\"date\", ascending=True))\n",
    "df_review = df_review.reset_index(drop=True)\n",
    "print(\"数据集Review数量为：\", df_review.shape[0])\n",
    "print(\"数据集User数量为：\", len(tags))"
   ]
  },
  {
   "cell_type": "code",
   "execution_count": 7,
   "id": "colored-quest",
   "metadata": {},
   "outputs": [
    {
     "name": "stdout",
     "output_type": "stream",
     "text": [
      "******Start preprocess dataset******\n"
     ]
    }
   ],
   "source": [
    "print(\"******Start preprocess dataset******\")\n",
    "df_shop = df_cleanShop\n",
    "# # 处理平均价格与属性\n",
    "# df_shop['match_avg_price'] = df_shop.apply(lambda x: match_avg_price(x['avg_price']), axis=1)\n",
    "# df_shop = process_avg_price(df_shop)\n",
    "# print(\"******Adjust shop avg_price successful******\")\n",
    "# df_shop = process_attributes(df_shop)\n",
    "# print(\"******Adjust shop attributes successful******\")"
   ]
  },
  {
   "cell_type": "code",
   "execution_count": 8,
   "id": "united-support",
   "metadata": {},
   "outputs": [
    {
     "name": "stdout",
     "output_type": "stream",
     "text": [
      "******Adjust Shop ID & User ID successful******\n"
     ]
    }
   ],
   "source": [
    "# 处理review数据集ID,index=[0,1,...];选取review数据集中有作用的列,减少内存占用\n",
    "userID_map_dict = transform_user_id(df_review)\n",
    "df_review[\"userID\"] = df_review.apply(lambda x: process_user_id(userID_map_dict, x[\"userID\"]), axis=1)\n",
    "df_review = df_review[[\"userID\", \"username\", \"shopID\", \"date\", \"score\"]]\n",
    "\n",
    "shopID_map_dict = transform_shop_id(df_shop)\n",
    "df_shop[\"shop_id\"] = df_shop.apply(lambda x: process_shop_id(shopID_map_dict, x[\"shop_id\"]), axis=1)\n",
    "df_review[\"shopID\"] = df_review.apply(lambda x: process_shop_id(shopID_map_dict, x[\"shopID\"]), axis=1)\n",
    "print(\"******Adjust Shop ID & User ID successful******\")"
   ]
  },
  {
   "cell_type": "code",
   "execution_count": 13,
   "id": "fundamental-forest",
   "metadata": {
    "scrolled": true
   },
   "outputs": [
    {
     "name": "stdout",
     "output_type": "stream",
     "text": [
      "******Split train & test dataset successful******\n"
     ]
    }
   ],
   "source": [
    "# df_shop = df_shop[[\"shop_id\", \"name\", 'avg_price', \"regionname\", \"big_category\", \"small_category\", \"star\", \"longitude\", \"latitude\", \"score1\", \"score2\", \"score3\", \"review_count\", \"bookable\"]]\n",
    "# df_shop.to_csv(\"newData/Shop_data_10.csv\", index=False, header=True)\n",
    "df_review = df_review.reset_index(drop=True)\n",
    "df_train_data, df_test_data = split_review_data(df_review)\n",
    "df_train_data.to_csv(\"newData/Review_train.csv\", index=False, header=True)\n",
    "df_test_data.to_csv(\"newData/Review_test.csv\", index=False, header=True)\n",
    "print(\"******Split train & test dataset successful******\")"
   ]
  },
  {
   "cell_type": "code",
   "execution_count": null,
   "id": "laughing-administration",
   "metadata": {},
   "outputs": [],
   "source": []
  }
 ],
 "metadata": {
  "kernelspec": {
   "display_name": "Python 3",
   "language": "python",
   "name": "python3"
  },
  "language_info": {
   "codemirror_mode": {
    "name": "ipython",
    "version": 3
   },
   "file_extension": ".py",
   "mimetype": "text/x-python",
   "name": "python",
   "nbconvert_exporter": "python",
   "pygments_lexer": "ipython3",
   "version": "3.6.5"
  },
  "toc": {
   "base_numbering": 1,
   "nav_menu": {},
   "number_sections": true,
   "sideBar": true,
   "skip_h1_title": false,
   "title_cell": "Table of Contents",
   "title_sidebar": "Contents",
   "toc_cell": false,
   "toc_position": {},
   "toc_section_display": true,
   "toc_window_display": false
  }
 },
 "nbformat": 4,
 "nbformat_minor": 5
}
