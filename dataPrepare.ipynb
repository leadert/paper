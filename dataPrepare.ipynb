{
 "cells": [
  {
   "cell_type": "code",
   "execution_count": 1,
   "id": "convertible-queue",
   "metadata": {},
   "outputs": [
    {
     "name": "stdout",
     "output_type": "stream",
     "text": [
      "******Start prepare dataset******\n"
     ]
    }
   ],
   "source": [
    "import re\n",
    "import numpy as np\n",
    "import pandas as pd\n",
    "from pandas import DataFrame\n",
    "\n",
    "pd.set_option('display.max_columns', None)  # 显示时不折叠\n",
    "\n",
    "print(\"******Start prepare dataset******\")\n",
    "# 店铺仍在开（属性齐全）且评论数不小于5条的遴选出来\n",
    "df_shop = pd.read_csv(\"newData/Shop_data_10.csv\", encoding=\"utf-8\", low_memory=False)"
   ]
  },
  {
   "cell_type": "code",
   "execution_count": 4,
   "id": "disabled-minute",
   "metadata": {},
   "outputs": [],
   "source": [
    "# 构造shop attribute向量\n",
    "poi_num = df_shop.shape[0]\n",
    "attribute_embedding_matrix = np.zeros((poi_num, 61), dtype=np.float32)\n",
    "for shop in df_shop.iterrows():\n",
    "    avg_price = '{:018b}'.format(int(shop[1]['avg_price']))\n",
    "    bit_idx = 0\n",
    "    for num in str(avg_price):\n",
    "        attribute_embedding_matrix[shop[0]][bit_idx:bit_idx+1] = num\n",
    "        bit_idx += 1\n",
    "    \n",
    "    big_category_dict = {\"美食\":1, \"丽人\":2, \"休闲娱乐\":4, \"购物\":8, \"亲子\":16, \"景点\":32, \"运动健身\":64, \"酒店\":128, \"教育培训\":256, \"结婚\":512, \"生活服务\":1024, \"宠物\":2048, \"医疗健康\":4096, \"家装\":8192, \"爱车\":16384}\n",
    "    big_category = '{:015b}'.format(int(big_category_dict[shop[1]['big_category']]))\n",
    "    for num in str(big_category):\n",
    "        attribute_embedding_matrix[shop[0]][bit_idx:bit_idx+1] = num\n",
    "        bit_idx += 1\n",
    "    \n",
    "    star_dict = {5.0:1, 4.5:2, 4.0:4, 3.5:8, 3.0:16, 2.0:32}\n",
    "    star = '{:06b}'.format(int(star_dict[shop[1]['star']]))\n",
    "    for num in str(star):\n",
    "        attribute_embedding_matrix[shop[0]][bit_idx:bit_idx+1] = num\n",
    "        bit_idx += 1\n",
    "    \n",
    "    if shop[1][\"score1\"]<5.0 and shop[1][\"score2\"]<5.0 and shop[1][\"score3\"]<5.0:\n",
    "        shop[1][\"score1\"] = 2 * shop[1][\"score1\"]\n",
    "        shop[1][\"score2\"] = 2 * shop[1][\"score2\"]\n",
    "        shop[1][\"score3\"] = 2 * shop[1][\"score3\"]\n",
    "    score1 = round(shop[1][\"score1\"], 1)\n",
    "    score2 = round(shop[1][\"score2\"], 1)\n",
    "    score3 = round(shop[1][\"score3\"], 1)\n",
    "    \n",
    "    score1 = '{:07b}'.format(int(score1 * 10))\n",
    "    score2 = '{:07b}'.format(int(score2 * 10))\n",
    "    score3 = '{:07b}'.format(int(score3 * 10))\n",
    "    \n",
    "    for num in str(score1):\n",
    "        attribute_embedding_matrix[shop[0]][bit_idx:bit_idx+1] = num\n",
    "        bit_idx += 1\n",
    "    for num in str(score2):\n",
    "        attribute_embedding_matrix[shop[0]][bit_idx:bit_idx+1] = num\n",
    "        bit_idx += 1\n",
    "    for num in str(score3):\n",
    "        attribute_embedding_matrix[shop[0]][bit_idx:bit_idx+1] = num\n",
    "        bit_idx += 1\n",
    "    attribute_embedding_matrix[shop[0]][bit_idx:bit_idx+1] = 1 if shop[1]['bookable'] else 0\n",
    "\n",
    "#存储attribute矩阵\n",
    "np.save('generateData/Attribute_Embedding',attribute_embedding_matrix)"
   ]
  },
  {
   "cell_type": "code",
   "execution_count": 12,
   "id": "growing-proceeding",
   "metadata": {},
   "outputs": [],
   "source": [
    "# 本体图两列反转；应遵循左小又大， a is b\n",
    "# with open('newData/treeModelOfCategory.tsv', \"r\") as f1:\n",
    "#     for line in f1.readlines():\n",
    "#         messageList = line.strip().split(\"\\t\")\n",
    "#         with open(\"newData/CategoryTree.tsv\", \"a\") as f:\n",
    "#             f.write(messageList[1] + \"\\t\" + messageList[0] + \"\\n\")"
   ]
  },
  {
   "cell_type": "code",
   "execution_count": 23,
   "id": "tender-northern",
   "metadata": {},
   "outputs": [],
   "source": [
    "#构造shop type向量\n",
    "from gensim.models.poincare import PoincareModel, PoincareRelations\n",
    "from gensim.test.utils import datapath\n",
    "\n",
    "file_path = datapath('C:/Users/lenovo/myPaper/newData/CategoryTree.tsv')\n",
    "relations = PoincareRelations(file_path, encoding=\"gbk\")\n",
    "category_model = PoincareModel(train_data = relations,size=16, alpha=0.03, negative=3)\n",
    "category_model.train(epochs=50, batch_size=16, print_every=3)\n",
    "#存储训练好的模型\n",
    "category_embedding_path = \"generateData/Category_Hierarchy_Model\"\n",
    "category_model.save(category_embedding_path)"
   ]
  },
  {
   "cell_type": "code",
   "execution_count": null,
   "id": "plastic-dining",
   "metadata": {},
   "outputs": [],
   "source": [
    "# 构造空间图，训练\n",
    "from math import cos, sin, asin, sqrt, pow\n",
    "import networkx as nx\n",
    "def rad(d):\n",
    "    pi = 3.1415926\n",
    "    return d * pi / 180.0\n",
    "\n",
    "\n",
    "def get_distance(lat1, lng1, lat2, lng2):\n",
    "    EARTH_REDIUS = 6378.137\n",
    "    radLat1 = rad(lat1)\n",
    "    radLat2 = rad(lat2)\n",
    "    a = radLat1 - radLat2\n",
    "    b = rad(lng1) - rad(lng2)\n",
    "    s = 2 * math.asin(math.sqrt(math.pow(sin(a / 2), 2) + cos(radLat1) * cos(radLat2) * math.pow(sin(b / 2), 2)))\n",
    "    s = s * EARTH_REDIUS\n",
    "    return s\n",
    "\n",
    "\n",
    "def construct_graph(df_shop):\n",
    "    struct_list = []\n",
    "    df_copy = df_shop\n",
    "    for index, row in df_shop.iterrows():\n",
    "        poi_id_1 = row['shopId']+1         # pad 0\n",
    "        longitude_1 = row['longitude']\n",
    "        latitude_1 = row['latitude']\n",
    "\n",
    "        for index1, row1 in df_copy.iterrows():\n",
    "            poi_id_2 = row1['shopId']+1   #pad 0\n",
    "            longitude_2 = row1['longitude']\n",
    "            latitude_2 = row1['latitude']\n",
    "\n",
    "            d = get_distance(latitude_1, longitude_1, latitude_2, longitude_2) * 1000\n",
    "            if poi_id_1 != poi_id_2 and d < 100:\n",
    "                struct_list.append([poi_id_1, poi_id_2])\n",
    "    struct_matrix = np.array(struct_list).T\n",
    "    return struct_matrix"
   ]
  },
  {
   "cell_type": "code",
   "execution_count": null,
   "id": "disciplinary-finland",
   "metadata": {},
   "outputs": [],
   "source": [
    "struct_matrix = construct_graph(df_shop)\n",
    "np.save(\"newData/Spatual_Graph_200m\", struct_matrix)"
   ]
  }
 ],
 "metadata": {
  "kernelspec": {
   "display_name": "Python 3",
   "language": "python",
   "name": "python3"
  },
  "language_info": {
   "codemirror_mode": {
    "name": "ipython",
    "version": 3
   },
   "file_extension": ".py",
   "mimetype": "text/x-python",
   "name": "python",
   "nbconvert_exporter": "python",
   "pygments_lexer": "ipython3",
   "version": "3.6.5"
  },
  "toc": {
   "base_numbering": 1,
   "nav_menu": {},
   "number_sections": true,
   "sideBar": true,
   "skip_h1_title": false,
   "title_cell": "Table of Contents",
   "title_sidebar": "Contents",
   "toc_cell": false,
   "toc_position": {},
   "toc_section_display": true,
   "toc_window_display": false
  }
 },
 "nbformat": 4,
 "nbformat_minor": 5
}
